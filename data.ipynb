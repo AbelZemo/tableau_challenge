{
 "cells": [
  {
   "cell_type": "code",
   "execution_count": 2,
   "metadata": {},
   "outputs": [],
   "source": [
    "import pandas as pd"
   ]
  },
  {
   "cell_type": "code",
   "execution_count": 3,
   "metadata": {},
   "outputs": [
    {
     "name": "stdout",
     "output_type": "stream",
     "text": [
      "(97584, 13)\n",
      "(75646, 13)\n",
      "(58680, 13)\n"
     ]
    }
   ],
   "source": [
    "dtypes = {\"ride_id\": str,\n",
    "          \"rideable_type\": str,\n",
    "          \"started_at\": pd.Timestamp,\n",
    "          \"ended_at\": pd.Timestamp,\n",
    "          \"start_station_name\": \"str\",\n",
    "          \"start_station_id\": \"str\",\n",
    "          \"end_station_name\": \"str\",\n",
    "          \"end_station_id\": \"str\",\n",
    "          \"start_lat\": float,\n",
    "          \"start_lng\": float,\n",
    "          \"end_lat\": float,\n",
    "          \"end_lng\": float,\n",
    "          \"member_casual\": \"str\"}\n",
    "data_202310 = pd.read_csv(\"Resources/JC-202310-citibike-tripdata.csv\", header=0, parse_dates=[2, 3])\n",
    "data_202311 = pd.read_csv(\"Resources/JC-202311-citibike-tripdata.csv\", header=0, parse_dates=[2, 3])\n",
    "data_202312 = pd.read_csv(\"Resources/JC-202312-citibike-tripdata.csv\", header=0, parse_dates=[2, 3])\n",
    "print(data_202310.shape)\n",
    "print(data_202311.shape)\n",
    "print(data_202312.shape)"
   ]
  },
  {
   "cell_type": "code",
   "execution_count": 4,
   "metadata": {},
   "outputs": [
    {
     "name": "stdout",
     "output_type": "stream",
     "text": [
      "<class 'pandas.core.frame.DataFrame'>\n",
      "RangeIndex: 97584 entries, 0 to 97583\n",
      "Data columns (total 13 columns):\n",
      " #   Column              Non-Null Count  Dtype         \n",
      "---  ------              --------------  -----         \n",
      " 0   ride_id             97584 non-null  object        \n",
      " 1   rideable_type       97584 non-null  object        \n",
      " 2   started_at          97584 non-null  datetime64[ns]\n",
      " 3   ended_at            97584 non-null  datetime64[ns]\n",
      " 4   start_station_name  97579 non-null  object        \n",
      " 5   start_station_id    97579 non-null  object        \n",
      " 6   end_station_name    97207 non-null  object        \n",
      " 7   end_station_id      97207 non-null  object        \n",
      " 8   start_lat           97584 non-null  float64       \n",
      " 9   start_lng           97584 non-null  float64       \n",
      " 10  end_lat             97497 non-null  float64       \n",
      " 11  end_lng             97497 non-null  float64       \n",
      " 12  member_casual       97584 non-null  object        \n",
      "dtypes: datetime64[ns](2), float64(4), object(7)\n",
      "memory usage: 9.7+ MB\n"
     ]
    }
   ],
   "source": [
    "data_202310.info()"
   ]
  },
  {
   "cell_type": "code",
   "execution_count": 5,
   "metadata": {},
   "outputs": [
    {
     "name": "stdout",
     "output_type": "stream",
     "text": [
      "rideable_type\n",
      "classic_bike     89461\n",
      "electric_bike     8123\n",
      "Name: count, dtype: int64\n",
      "member_casual\n",
      "member    73863\n",
      "casual    23721\n",
      "Name: count, dtype: int64\n"
     ]
    }
   ],
   "source": [
    "print(data_202310[\"rideable_type\"].value_counts())\n",
    "print(data_202310[\"member_casual\"].value_counts())"
   ]
  },
  {
   "cell_type": "code",
   "execution_count": 6,
   "metadata": {},
   "outputs": [
    {
     "name": "stdout",
     "output_type": "stream",
     "text": [
      "(231042, 13)\n",
      "<class 'pandas.core.frame.DataFrame'>\n",
      "Index: 231042 entries, 0 to 58679\n",
      "Data columns (total 13 columns):\n",
      " #   Column              Non-Null Count   Dtype         \n",
      "---  ------              --------------   -----         \n",
      " 0   ride_id             231042 non-null  object        \n",
      " 1   rideable_type       231042 non-null  object        \n",
      " 2   started_at          231042 non-null  datetime64[ns]\n",
      " 3   ended_at            231042 non-null  datetime64[ns]\n",
      " 4   start_station_name  231042 non-null  object        \n",
      " 5   start_station_id    231042 non-null  object        \n",
      " 6   end_station_name    231042 non-null  object        \n",
      " 7   end_station_id      231042 non-null  object        \n",
      " 8   start_lat           231042 non-null  float64       \n",
      " 9   start_lng           231042 non-null  float64       \n",
      " 10  end_lat             231042 non-null  float64       \n",
      " 11  end_lng             231042 non-null  float64       \n",
      " 12  member_casual       231042 non-null  bool          \n",
      "dtypes: bool(1), datetime64[ns](2), float64(4), object(6)\n",
      "memory usage: 23.1+ MB\n"
     ]
    }
   ],
   "source": [
    "map_rideable_type = {\"classic_bike\": \"C_B\",\n",
    "                     \"electric_bike\": \"E_B\",\n",
    "                     \"docked_bike\": \"D_B\"}\n",
    "map_member_casual = {\"member\": True,\n",
    "                     \"casual\": False}\n",
    "\n",
    "df_winter = pd.concat([data_202310, data_202311, data_202312])\n",
    "df_winter.dropna(axis=0, inplace=True)  # drop any row with missing data\n",
    "# map strings to shorter values\n",
    "df_winter[\"rideable_type\"] = df_winter[\"rideable_type\"].map(map_rideable_type)\n",
    "df_winter[\"member_casual\"] = df_winter[\"member_casual\"].map(map_member_casual)\n",
    "print(df_winter.shape)\n",
    "df_winter.info()"
   ]
  },
  {
   "cell_type": "code",
   "execution_count": 7,
   "metadata": {},
   "outputs": [],
   "source": [
    "df_winter.to_csv(\"Resources/citibike_2023_10_11_12.csv\", index=False, header=True)"
   ]
  }
 ],
 "metadata": {
  "kernelspec": {
   "display_name": "PythonData39",
   "language": "python",
   "name": "python3"
  },
  "language_info": {
   "codemirror_mode": {
    "name": "ipython",
    "version": 3
   },
   "file_extension": ".py",
   "mimetype": "text/x-python",
   "name": "python",
   "nbconvert_exporter": "python",
   "pygments_lexer": "ipython3",
   "version": "3.11.5"
  },
  "orig_nbformat": 4
 },
 "nbformat": 4,
 "nbformat_minor": 2
}
